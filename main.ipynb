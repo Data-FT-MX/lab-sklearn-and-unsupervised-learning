{
  "nbformat": 4,
  "nbformat_minor": 0,
  "metadata": {
    "kernelspec": {
      "display_name": "Python 3",
      "language": "python",
      "name": "python3"
    },
    "language_info": {
      "codemirror_mode": {
        "name": "ipython",
        "version": 3
      },
      "file_extension": ".py",
      "mimetype": "text/x-python",
      "name": "python",
      "nbconvert_exporter": "python",
      "pygments_lexer": "ipython3",
      "version": "3.7.1"
    },
    "colab": {
      "name": "main.ipynb",
      "provenance": [],
      "collapsed_sections": [],
      "include_colab_link": true
    }
  },
  "cells": [
    {
      "cell_type": "markdown",
      "metadata": {
        "id": "view-in-github",
        "colab_type": "text"
      },
      "source": [
        "<a href=\"https://colab.research.google.com/github/juanmanuelvillacis/lab-sklearn-and-unsupervised-learning/blob/master/main.ipynb\" target=\"_parent\"><img src=\"https://colab.research.google.com/assets/colab-badge.svg\" alt=\"Open In Colab\"/></a>"
      ]
    },
    {
      "cell_type": "markdown",
      "metadata": {
        "id": "2o6b0Ul5ZAzW"
      },
      "source": [
        "# Before your start:\n",
        "- Read the README.md file\n",
        "- Comment as much as you can and use the resources in the README.md file\n",
        "- Happy learning!\n"
      ]
    },
    {
      "cell_type": "code",
      "metadata": {
        "id": "feBM4HFJZAzj"
      },
      "source": [
        "#Import your libraries\n",
        "import pandas as pd\n",
        "import numpy as np\n",
        "\n",
        "import matplotlib.pyplot as plt\n",
        "import seaborn as sns\n",
        "\n",
        "from sklearn.cluster import KMeans, DBSCAN\n",
        "from sklearn.neighbors import NearestNeighbors"
      ],
      "execution_count": 98,
      "outputs": []
    },
    {
      "cell_type": "markdown",
      "metadata": {
        "id": "umgZNDKPZAzl"
      },
      "source": [
        "# Challenge 1 -  Explore the Internal Dataset\n",
        "\n",
        "In this lab, we will start off by working with the wine dataset in scikit-learn. We will select the wine dataset and use a clustering algorithm to learn more about the functionalities of this library. \n",
        "\n",
        "We start off by loading the dataset using the `load_wine` function ([documentation](https://scikit-learn.org/stable/modules/generated/sklearn.datasets.load_wine.html)). In the cell below, we will import the function from scikit-learn."
      ]
    },
    {
      "cell_type": "code",
      "metadata": {
        "id": "fbNITTmLZAzm"
      },
      "source": [
        "from sklearn.datasets import load_wine"
      ],
      "execution_count": 99,
      "outputs": []
    },
    {
      "cell_type": "markdown",
      "metadata": {
        "id": "MfOPrvNeZAzm"
      },
      "source": [
        "In the cell below, use the `load_wine` function and assign the wine dataset to a variable called `wine`."
      ]
    },
    {
      "cell_type": "code",
      "metadata": {
        "colab": {
          "base_uri": "https://localhost:8080/"
        },
        "id": "8TuN5T1MZAzn",
        "outputId": "5c7eb833-fc1b-45f9-84dd-536bc8e094ee"
      },
      "source": [
        "# Your code here:\n",
        "wine = load_wine()\n",
        "wine"
      ],
      "execution_count": 100,
      "outputs": [
        {
          "output_type": "execute_result",
          "data": {
            "text/plain": [
              "{'DESCR': '.. _wine_dataset:\\n\\nWine recognition dataset\\n------------------------\\n\\n**Data Set Characteristics:**\\n\\n    :Number of Instances: 178 (50 in each of three classes)\\n    :Number of Attributes: 13 numeric, predictive attributes and the class\\n    :Attribute Information:\\n \\t\\t- Alcohol\\n \\t\\t- Malic acid\\n \\t\\t- Ash\\n\\t\\t- Alcalinity of ash  \\n \\t\\t- Magnesium\\n\\t\\t- Total phenols\\n \\t\\t- Flavanoids\\n \\t\\t- Nonflavanoid phenols\\n \\t\\t- Proanthocyanins\\n\\t\\t- Color intensity\\n \\t\\t- Hue\\n \\t\\t- OD280/OD315 of diluted wines\\n \\t\\t- Proline\\n\\n    - class:\\n            - class_0\\n            - class_1\\n            - class_2\\n\\t\\t\\n    :Summary Statistics:\\n    \\n    ============================= ==== ===== ======= =====\\n                                   Min   Max   Mean     SD\\n    ============================= ==== ===== ======= =====\\n    Alcohol:                      11.0  14.8    13.0   0.8\\n    Malic Acid:                   0.74  5.80    2.34  1.12\\n    Ash:                          1.36  3.23    2.36  0.27\\n    Alcalinity of Ash:            10.6  30.0    19.5   3.3\\n    Magnesium:                    70.0 162.0    99.7  14.3\\n    Total Phenols:                0.98  3.88    2.29  0.63\\n    Flavanoids:                   0.34  5.08    2.03  1.00\\n    Nonflavanoid Phenols:         0.13  0.66    0.36  0.12\\n    Proanthocyanins:              0.41  3.58    1.59  0.57\\n    Colour Intensity:              1.3  13.0     5.1   2.3\\n    Hue:                          0.48  1.71    0.96  0.23\\n    OD280/OD315 of diluted wines: 1.27  4.00    2.61  0.71\\n    Proline:                       278  1680     746   315\\n    ============================= ==== ===== ======= =====\\n\\n    :Missing Attribute Values: None\\n    :Class Distribution: class_0 (59), class_1 (71), class_2 (48)\\n    :Creator: R.A. Fisher\\n    :Donor: Michael Marshall (MARSHALL%PLU@io.arc.nasa.gov)\\n    :Date: July, 1988\\n\\nThis is a copy of UCI ML Wine recognition datasets.\\nhttps://archive.ics.uci.edu/ml/machine-learning-databases/wine/wine.data\\n\\nThe data is the results of a chemical analysis of wines grown in the same\\nregion in Italy by three different cultivators. There are thirteen different\\nmeasurements taken for different constituents found in the three types of\\nwine.\\n\\nOriginal Owners: \\n\\nForina, M. et al, PARVUS - \\nAn Extendible Package for Data Exploration, Classification and Correlation. \\nInstitute of Pharmaceutical and Food Analysis and Technologies,\\nVia Brigata Salerno, 16147 Genoa, Italy.\\n\\nCitation:\\n\\nLichman, M. (2013). UCI Machine Learning Repository\\n[https://archive.ics.uci.edu/ml]. Irvine, CA: University of California,\\nSchool of Information and Computer Science. \\n\\n.. topic:: References\\n\\n  (1) S. Aeberhard, D. Coomans and O. de Vel, \\n  Comparison of Classifiers in High Dimensional Settings, \\n  Tech. Rep. no. 92-02, (1992), Dept. of Computer Science and Dept. of  \\n  Mathematics and Statistics, James Cook University of North Queensland. \\n  (Also submitted to Technometrics). \\n\\n  The data was used with many others for comparing various \\n  classifiers. The classes are separable, though only RDA \\n  has achieved 100% correct classification. \\n  (RDA : 100%, QDA 99.4%, LDA 98.9%, 1NN 96.1% (z-transformed data)) \\n  (All results using the leave-one-out technique) \\n\\n  (2) S. Aeberhard, D. Coomans and O. de Vel, \\n  \"THE CLASSIFICATION PERFORMANCE OF RDA\" \\n  Tech. Rep. no. 92-01, (1992), Dept. of Computer Science and Dept. of \\n  Mathematics and Statistics, James Cook University of North Queensland. \\n  (Also submitted to Journal of Chemometrics).\\n',\n",
              " 'data': array([[1.423e+01, 1.710e+00, 2.430e+00, ..., 1.040e+00, 3.920e+00,\n",
              "         1.065e+03],\n",
              "        [1.320e+01, 1.780e+00, 2.140e+00, ..., 1.050e+00, 3.400e+00,\n",
              "         1.050e+03],\n",
              "        [1.316e+01, 2.360e+00, 2.670e+00, ..., 1.030e+00, 3.170e+00,\n",
              "         1.185e+03],\n",
              "        ...,\n",
              "        [1.327e+01, 4.280e+00, 2.260e+00, ..., 5.900e-01, 1.560e+00,\n",
              "         8.350e+02],\n",
              "        [1.317e+01, 2.590e+00, 2.370e+00, ..., 6.000e-01, 1.620e+00,\n",
              "         8.400e+02],\n",
              "        [1.413e+01, 4.100e+00, 2.740e+00, ..., 6.100e-01, 1.600e+00,\n",
              "         5.600e+02]]),\n",
              " 'feature_names': ['alcohol',\n",
              "  'malic_acid',\n",
              "  'ash',\n",
              "  'alcalinity_of_ash',\n",
              "  'magnesium',\n",
              "  'total_phenols',\n",
              "  'flavanoids',\n",
              "  'nonflavanoid_phenols',\n",
              "  'proanthocyanins',\n",
              "  'color_intensity',\n",
              "  'hue',\n",
              "  'od280/od315_of_diluted_wines',\n",
              "  'proline'],\n",
              " 'target': array([0, 0, 0, 0, 0, 0, 0, 0, 0, 0, 0, 0, 0, 0, 0, 0, 0, 0, 0, 0, 0, 0,\n",
              "        0, 0, 0, 0, 0, 0, 0, 0, 0, 0, 0, 0, 0, 0, 0, 0, 0, 0, 0, 0, 0, 0,\n",
              "        0, 0, 0, 0, 0, 0, 0, 0, 0, 0, 0, 0, 0, 0, 0, 1, 1, 1, 1, 1, 1, 1,\n",
              "        1, 1, 1, 1, 1, 1, 1, 1, 1, 1, 1, 1, 1, 1, 1, 1, 1, 1, 1, 1, 1, 1,\n",
              "        1, 1, 1, 1, 1, 1, 1, 1, 1, 1, 1, 1, 1, 1, 1, 1, 1, 1, 1, 1, 1, 1,\n",
              "        1, 1, 1, 1, 1, 1, 1, 1, 1, 1, 1, 1, 1, 1, 1, 1, 1, 1, 1, 1, 2, 2,\n",
              "        2, 2, 2, 2, 2, 2, 2, 2, 2, 2, 2, 2, 2, 2, 2, 2, 2, 2, 2, 2, 2, 2,\n",
              "        2, 2, 2, 2, 2, 2, 2, 2, 2, 2, 2, 2, 2, 2, 2, 2, 2, 2, 2, 2, 2, 2,\n",
              "        2, 2]),\n",
              " 'target_names': array(['class_0', 'class_1', 'class_2'], dtype='<U7')}"
            ]
          },
          "metadata": {},
          "execution_count": 100
        }
      ]
    },
    {
      "cell_type": "markdown",
      "metadata": {
        "id": "rIj0WODAZAzn"
      },
      "source": [
        "In the next step, list the keys of the variable `wine` to examine its contents. Note that the `load_wine` function does not return dataframes. It returns you a Python dictionary."
      ]
    },
    {
      "cell_type": "code",
      "metadata": {
        "colab": {
          "base_uri": "https://localhost:8080/"
        },
        "id": "MtCcvsI2ZAzo",
        "outputId": "0bfa2b0d-fd61-4187-efe5-2fa0764ecbc6"
      },
      "source": [
        "# Your code here:\n",
        "wine.keys()"
      ],
      "execution_count": 101,
      "outputs": [
        {
          "output_type": "execute_result",
          "data": {
            "text/plain": [
              "dict_keys(['data', 'target', 'target_names', 'DESCR', 'feature_names'])"
            ]
          },
          "metadata": {},
          "execution_count": 101
        }
      ]
    },
    {
      "cell_type": "markdown",
      "metadata": {
        "id": "k9gIZEoYZAzp"
      },
      "source": [
        "Next, list the feature names. These are the different characteristics of the wine. "
      ]
    },
    {
      "cell_type": "code",
      "metadata": {
        "colab": {
          "base_uri": "https://localhost:8080/"
        },
        "id": "DHHK513fZAzv",
        "outputId": "a6c0af87-71a5-43fb-e5d2-976bb2b9ee45"
      },
      "source": [
        "# Your code here:\n",
        "wine['feature_names']"
      ],
      "execution_count": 102,
      "outputs": [
        {
          "output_type": "execute_result",
          "data": {
            "text/plain": [
              "['alcohol',\n",
              " 'malic_acid',\n",
              " 'ash',\n",
              " 'alcalinity_of_ash',\n",
              " 'magnesium',\n",
              " 'total_phenols',\n",
              " 'flavanoids',\n",
              " 'nonflavanoid_phenols',\n",
              " 'proanthocyanins',\n",
              " 'color_intensity',\n",
              " 'hue',\n",
              " 'od280/od315_of_diluted_wines',\n",
              " 'proline']"
            ]
          },
          "metadata": {},
          "execution_count": 102
        }
      ]
    },
    {
      "cell_type": "markdown",
      "metadata": {
        "id": "SPdWHOemZAzx"
      },
      "source": [
        "Print the description of the dataset in the cell below using the `DESCR` attribute of the `wine` variable.\n",
        "\n",
        "*Hint: If your output is ill-formatted by displaying linebreaks as `\\n`, it means you are not using the print function.*"
      ]
    },
    {
      "cell_type": "code",
      "metadata": {
        "colab": {
          "base_uri": "https://localhost:8080/"
        },
        "id": "eNm61tFgZAzy",
        "outputId": "c908ec21-fcb0-4b5b-9eb2-c4305bd5daf5"
      },
      "source": [
        "# Your code here:\n",
        "print(wine.DESCR)"
      ],
      "execution_count": 103,
      "outputs": [
        {
          "output_type": "stream",
          "name": "stdout",
          "text": [
            ".. _wine_dataset:\n",
            "\n",
            "Wine recognition dataset\n",
            "------------------------\n",
            "\n",
            "**Data Set Characteristics:**\n",
            "\n",
            "    :Number of Instances: 178 (50 in each of three classes)\n",
            "    :Number of Attributes: 13 numeric, predictive attributes and the class\n",
            "    :Attribute Information:\n",
            " \t\t- Alcohol\n",
            " \t\t- Malic acid\n",
            " \t\t- Ash\n",
            "\t\t- Alcalinity of ash  \n",
            " \t\t- Magnesium\n",
            "\t\t- Total phenols\n",
            " \t\t- Flavanoids\n",
            " \t\t- Nonflavanoid phenols\n",
            " \t\t- Proanthocyanins\n",
            "\t\t- Color intensity\n",
            " \t\t- Hue\n",
            " \t\t- OD280/OD315 of diluted wines\n",
            " \t\t- Proline\n",
            "\n",
            "    - class:\n",
            "            - class_0\n",
            "            - class_1\n",
            "            - class_2\n",
            "\t\t\n",
            "    :Summary Statistics:\n",
            "    \n",
            "    ============================= ==== ===== ======= =====\n",
            "                                   Min   Max   Mean     SD\n",
            "    ============================= ==== ===== ======= =====\n",
            "    Alcohol:                      11.0  14.8    13.0   0.8\n",
            "    Malic Acid:                   0.74  5.80    2.34  1.12\n",
            "    Ash:                          1.36  3.23    2.36  0.27\n",
            "    Alcalinity of Ash:            10.6  30.0    19.5   3.3\n",
            "    Magnesium:                    70.0 162.0    99.7  14.3\n",
            "    Total Phenols:                0.98  3.88    2.29  0.63\n",
            "    Flavanoids:                   0.34  5.08    2.03  1.00\n",
            "    Nonflavanoid Phenols:         0.13  0.66    0.36  0.12\n",
            "    Proanthocyanins:              0.41  3.58    1.59  0.57\n",
            "    Colour Intensity:              1.3  13.0     5.1   2.3\n",
            "    Hue:                          0.48  1.71    0.96  0.23\n",
            "    OD280/OD315 of diluted wines: 1.27  4.00    2.61  0.71\n",
            "    Proline:                       278  1680     746   315\n",
            "    ============================= ==== ===== ======= =====\n",
            "\n",
            "    :Missing Attribute Values: None\n",
            "    :Class Distribution: class_0 (59), class_1 (71), class_2 (48)\n",
            "    :Creator: R.A. Fisher\n",
            "    :Donor: Michael Marshall (MARSHALL%PLU@io.arc.nasa.gov)\n",
            "    :Date: July, 1988\n",
            "\n",
            "This is a copy of UCI ML Wine recognition datasets.\n",
            "https://archive.ics.uci.edu/ml/machine-learning-databases/wine/wine.data\n",
            "\n",
            "The data is the results of a chemical analysis of wines grown in the same\n",
            "region in Italy by three different cultivators. There are thirteen different\n",
            "measurements taken for different constituents found in the three types of\n",
            "wine.\n",
            "\n",
            "Original Owners: \n",
            "\n",
            "Forina, M. et al, PARVUS - \n",
            "An Extendible Package for Data Exploration, Classification and Correlation. \n",
            "Institute of Pharmaceutical and Food Analysis and Technologies,\n",
            "Via Brigata Salerno, 16147 Genoa, Italy.\n",
            "\n",
            "Citation:\n",
            "\n",
            "Lichman, M. (2013). UCI Machine Learning Repository\n",
            "[https://archive.ics.uci.edu/ml]. Irvine, CA: University of California,\n",
            "School of Information and Computer Science. \n",
            "\n",
            ".. topic:: References\n",
            "\n",
            "  (1) S. Aeberhard, D. Coomans and O. de Vel, \n",
            "  Comparison of Classifiers in High Dimensional Settings, \n",
            "  Tech. Rep. no. 92-02, (1992), Dept. of Computer Science and Dept. of  \n",
            "  Mathematics and Statistics, James Cook University of North Queensland. \n",
            "  (Also submitted to Technometrics). \n",
            "\n",
            "  The data was used with many others for comparing various \n",
            "  classifiers. The classes are separable, though only RDA \n",
            "  has achieved 100% correct classification. \n",
            "  (RDA : 100%, QDA 99.4%, LDA 98.9%, 1NN 96.1% (z-transformed data)) \n",
            "  (All results using the leave-one-out technique) \n",
            "\n",
            "  (2) S. Aeberhard, D. Coomans and O. de Vel, \n",
            "  \"THE CLASSIFICATION PERFORMANCE OF RDA\" \n",
            "  Tech. Rep. no. 92-01, (1992), Dept. of Computer Science and Dept. of \n",
            "  Mathematics and Statistics, James Cook University of North Queensland. \n",
            "  (Also submitted to Journal of Chemometrics).\n",
            "\n"
          ]
        }
      ]
    },
    {
      "cell_type": "markdown",
      "metadata": {
        "id": "En0aoLdWZAzz"
      },
      "source": [
        "#### From the description, we see that all columns are numeric. We also know that there is no missing data \n",
        "\n",
        "Let's plot the alcohol content histogram. Recall that we are working with a numpy array and will need to use a matplotlib function to produce a histogram. "
      ]
    },
    {
      "cell_type": "code",
      "metadata": {
        "colab": {
          "base_uri": "https://localhost:8080/"
        },
        "id": "GyTNjVc0bDbh",
        "outputId": "0ee7f59a-26a6-4815-b181-7ef68f397667"
      },
      "source": [
        "wine['data'][:,0]\n"
      ],
      "execution_count": 104,
      "outputs": [
        {
          "output_type": "execute_result",
          "data": {
            "text/plain": [
              "array([14.23, 13.2 , 13.16, 14.37, 13.24, 14.2 , 14.39, 14.06, 14.83,\n",
              "       13.86, 14.1 , 14.12, 13.75, 14.75, 14.38, 13.63, 14.3 , 13.83,\n",
              "       14.19, 13.64, 14.06, 12.93, 13.71, 12.85, 13.5 , 13.05, 13.39,\n",
              "       13.3 , 13.87, 14.02, 13.73, 13.58, 13.68, 13.76, 13.51, 13.48,\n",
              "       13.28, 13.05, 13.07, 14.22, 13.56, 13.41, 13.88, 13.24, 13.05,\n",
              "       14.21, 14.38, 13.9 , 14.1 , 13.94, 13.05, 13.83, 13.82, 13.77,\n",
              "       13.74, 13.56, 14.22, 13.29, 13.72, 12.37, 12.33, 12.64, 13.67,\n",
              "       12.37, 12.17, 12.37, 13.11, 12.37, 13.34, 12.21, 12.29, 13.86,\n",
              "       13.49, 12.99, 11.96, 11.66, 13.03, 11.84, 12.33, 12.7 , 12.  ,\n",
              "       12.72, 12.08, 13.05, 11.84, 12.67, 12.16, 11.65, 11.64, 12.08,\n",
              "       12.08, 12.  , 12.69, 12.29, 11.62, 12.47, 11.81, 12.29, 12.37,\n",
              "       12.29, 12.08, 12.6 , 12.34, 11.82, 12.51, 12.42, 12.25, 12.72,\n",
              "       12.22, 11.61, 11.46, 12.52, 11.76, 11.41, 12.08, 11.03, 11.82,\n",
              "       12.42, 12.77, 12.  , 11.45, 11.56, 12.42, 13.05, 11.87, 12.07,\n",
              "       12.43, 11.79, 12.37, 12.04, 12.86, 12.88, 12.81, 12.7 , 12.51,\n",
              "       12.6 , 12.25, 12.53, 13.49, 12.84, 12.93, 13.36, 13.52, 13.62,\n",
              "       12.25, 13.16, 13.88, 12.87, 13.32, 13.08, 13.5 , 12.79, 13.11,\n",
              "       13.23, 12.58, 13.17, 13.84, 12.45, 14.34, 13.48, 12.36, 13.69,\n",
              "       12.85, 12.96, 13.78, 13.73, 13.45, 12.82, 13.58, 13.4 , 12.2 ,\n",
              "       12.77, 14.16, 13.71, 13.4 , 13.27, 13.17, 14.13])"
            ]
          },
          "metadata": {},
          "execution_count": 104
        }
      ]
    },
    {
      "cell_type": "code",
      "metadata": {
        "colab": {
          "base_uri": "https://localhost:8080/",
          "height": 265
        },
        "id": "pdSa5zw7ZAzz",
        "outputId": "78d58bd0-e0db-4f7b-e4bb-e8375a13d2fd"
      },
      "source": [
        "# imports\n",
        "plt.hist(wine['data'][:,0]);\n",
        "#wine['data'][0]"
      ],
      "execution_count": 105,
      "outputs": [
        {
          "output_type": "display_data",
          "data": {
            "image/png": "[encoded data removed]",
            "text/plain": [
              "<Figure size 432x288 with 1 Axes>"
            ]
          },
          "metadata": {
            "needs_background": "light"
          }
        }
      ]
    },
    {
      "cell_type": "code",
      "metadata": {
        "id": "vBZFebdsZAz0"
      },
      "source": [
        "# Your code here:\n"
      ],
      "execution_count": 106,
      "outputs": []
    },
    {
      "cell_type": "markdown",
      "metadata": {
        "id": "g4g6hgi0ZAz0"
      },
      "source": [
        "# Challenge 2 - Clustering the Internal Dataset\n",
        "\n",
        "In this portion of the lab, we will cluster the data to find common traits between the different wines. We will use the k-means clustering algorithm to achieve this goal.\n",
        "\n",
        "#### We start by importing k-means from scikit-learn and then proceed to create 4 clusters."
      ]
    },
    {
      "cell_type": "code",
      "metadata": {
        "colab": {
          "base_uri": "https://localhost:8080/",
          "height": 295
        },
        "id": "CTQIz9okZAz0",
        "outputId": "d9f1b316-92f1-4d63-e936-4b163c0afe7f"
      },
      "source": [
        "K = range(1, 15)\n",
        "sum_squared_distances = []\n",
        "\n",
        "for k in K:\n",
        "  model = KMeans(n_clusters=k).fit(wine['data'])\n",
        "  sum_squared_distances.append(model.inertia_)\n",
        "\n",
        "plt.plot(K, sum_squared_distances)\n",
        "plt.xlabel('K Values')\n",
        "plt.ylabel('Sum of Squared Distances')\n",
        "plt.title('Elbow Method')\n",
        "\n",
        "plt.show()"
      ],
      "execution_count": 107,
      "outputs": [
        {
          "output_type": "display_data",
          "data": {
            "image/png": "[encoded data removed]",
            "text/plain": [
              "<Figure size 432x288 with 1 Axes>"
            ]
          },
          "metadata": {
            "needs_background": "light"
          }
        }
      ]
    },
    {
      "cell_type": "code",
      "metadata": {
        "id": "GAJRGoGAZAz1"
      },
      "source": [
        "# Your code here:\n",
        "kmeans = KMeans(n_clusters=4,random_state=11)\n",
        "wine_cluster = kmeans.fit(wine['data'])"
      ],
      "execution_count": 108,
      "outputs": []
    },
    {
      "cell_type": "markdown",
      "metadata": {
        "id": "gIjrWm-3ZAz1"
      },
      "source": [
        "#### Print the cluster labels."
      ]
    },
    {
      "cell_type": "code",
      "metadata": {
        "colab": {
          "base_uri": "https://localhost:8080/"
        },
        "id": "lT3Z2B_xZAz1",
        "outputId": "dfd5839b-4195-44ba-d4a2-79eb5a2700e5"
      },
      "source": [
        "# Your code here:\n",
        "lables = wine_cluster.labels_\n",
        "lables"
      ],
      "execution_count": 109,
      "outputs": [
        {
          "output_type": "execute_result",
          "data": {
            "text/plain": [
              "array([3, 3, 1, 1, 0, 1, 1, 1, 3, 3, 1, 1, 1, 3, 1, 1, 1, 3, 1, 0, 0, 0,\n",
              "       3, 3, 0, 0, 1, 1, 3, 3, 1, 1, 3, 1, 3, 3, 3, 3, 3, 0, 0, 3, 3, 0,\n",
              "       3, 3, 3, 3, 3, 1, 3, 1, 1, 1, 3, 3, 3, 1, 1, 2, 0, 2, 0, 2, 2, 0,\n",
              "       2, 2, 0, 0, 3, 2, 2, 3, 3, 2, 2, 2, 0, 2, 2, 0, 0, 2, 2, 2, 2, 2,\n",
              "       0, 0, 2, 2, 2, 2, 2, 3, 0, 2, 0, 2, 0, 2, 2, 2, 0, 2, 2, 2, 2, 0,\n",
              "       2, 2, 0, 2, 2, 2, 2, 2, 2, 2, 0, 2, 2, 2, 2, 2, 2, 2, 2, 0, 0, 2,\n",
              "       2, 0, 0, 0, 0, 2, 0, 0, 0, 0, 2, 2, 0, 0, 2, 0, 0, 2, 2, 2, 2, 0,\n",
              "       0, 0, 2, 3, 0, 0, 2, 0, 2, 0, 0, 2, 0, 0, 0, 0, 2, 2, 0, 0, 0, 0,\n",
              "       0, 2], dtype=int32)"
            ]
          },
          "metadata": {},
          "execution_count": 109
        }
      ]
    },
    {
      "cell_type": "code",
      "metadata": {
        "id": "DXude3S5dwda"
      },
      "source": [
        "wine['lables'] = lables"
      ],
      "execution_count": 110,
      "outputs": []
    },
    {
      "cell_type": "markdown",
      "metadata": {
        "id": "6VL7NAR2ZAz2"
      },
      "source": [
        "#### Compute the size of each cluster. This can be done by counting the number of occurrences of each unique label in the list above.\n",
        "\n",
        "Which is the largest cluster of the 4?"
      ]
    },
    {
      "cell_type": "code",
      "metadata": {
        "colab": {
          "base_uri": "https://localhost:8080/"
        },
        "id": "ElSR9Qv6ZAz2",
        "outputId": "3d56735c-3735-4897-f40a-8b326fa0e8af"
      },
      "source": [
        "# Your code here:\n",
        "np.unique(wine_cluster.labels_,return_counts=True)"
      ],
      "execution_count": 111,
      "outputs": [
        {
          "output_type": "execute_result",
          "data": {
            "text/plain": [
              "(array([0, 1, 2, 3], dtype=int32), array([57, 23, 66, 32]))"
            ]
          },
          "metadata": {},
          "execution_count": 111
        }
      ]
    },
    {
      "cell_type": "code",
      "metadata": {
        "id": "rGg9UjRyZAz2"
      },
      "source": [
        "# Your answer here:\n",
        "#The largest cluster is number 2"
      ],
      "execution_count": 112,
      "outputs": []
    },
    {
      "cell_type": "markdown",
      "metadata": {
        "id": "oy30tt2CZAz3"
      },
      "source": [
        "#### Inspect the shape of `wine['data']`"
      ]
    },
    {
      "cell_type": "code",
      "metadata": {
        "colab": {
          "base_uri": "https://localhost:8080/"
        },
        "id": "z4FVo19pZAz3",
        "outputId": "36b2b2f7-3c56-4fde-bfee-5002296df6c5"
      },
      "source": [
        "# Your code here:\n",
        "np.shape(wine['data'])"
      ],
      "execution_count": 113,
      "outputs": [
        {
          "output_type": "execute_result",
          "data": {
            "text/plain": [
              "(178, 13)"
            ]
          },
          "metadata": {},
          "execution_count": 113
        }
      ]
    },
    {
      "cell_type": "markdown",
      "metadata": {
        "id": "Qy_VZgQLZAz3"
      },
      "source": [
        "#### Inspect the first 5 records in `wine['data']`"
      ]
    },
    {
      "cell_type": "code",
      "metadata": {
        "colab": {
          "base_uri": "https://localhost:8080/"
        },
        "id": "h9etl7m2ZAz3",
        "outputId": "200ef192-db41-4f5b-94fd-c83ebd49f880"
      },
      "source": [
        "# Your code here:\n",
        "wine['data'][0:5]"
      ],
      "execution_count": 114,
      "outputs": [
        {
          "output_type": "execute_result",
          "data": {
            "text/plain": [
              "array([[1.423e+01, 1.710e+00, 2.430e+00, 1.560e+01, 1.270e+02, 2.800e+00,\n",
              "        3.060e+00, 2.800e-01, 2.290e+00, 5.640e+00, 1.040e+00, 3.920e+00,\n",
              "        1.065e+03],\n",
              "       [1.320e+01, 1.780e+00, 2.140e+00, 1.120e+01, 1.000e+02, 2.650e+00,\n",
              "        2.760e+00, 2.600e-01, 1.280e+00, 4.380e+00, 1.050e+00, 3.400e+00,\n",
              "        1.050e+03],\n",
              "       [1.316e+01, 2.360e+00, 2.670e+00, 1.860e+01, 1.010e+02, 2.800e+00,\n",
              "        3.240e+00, 3.000e-01, 2.810e+00, 5.680e+00, 1.030e+00, 3.170e+00,\n",
              "        1.185e+03],\n",
              "       [1.437e+01, 1.950e+00, 2.500e+00, 1.680e+01, 1.130e+02, 3.850e+00,\n",
              "        3.490e+00, 2.400e-01, 2.180e+00, 7.800e+00, 8.600e-01, 3.450e+00,\n",
              "        1.480e+03],\n",
              "       [1.324e+01, 2.590e+00, 2.870e+00, 2.100e+01, 1.180e+02, 2.800e+00,\n",
              "        2.690e+00, 3.900e-01, 1.820e+00, 4.320e+00, 1.040e+00, 2.930e+00,\n",
              "        7.350e+02]])"
            ]
          },
          "metadata": {},
          "execution_count": 114
        }
      ]
    },
    {
      "cell_type": "markdown",
      "metadata": {
        "id": "ylehT5WzZAz3"
      },
      "source": [
        "You now know the data object is a 2-dimensional array in which there are 178 rows and 13 columns. Each row is a data record and each column is a feature.\n",
        "\n",
        "#### What is the average ash content for each cluster? \n",
        "\n",
        "*Hints:* \n",
        "\n",
        "* *Ash* is the 3rd column.\n",
        "\n",
        "* The data object is not a Pandas dataframe so you can't apply `pandas.DataFrame.groupby`. Instead, you can use `np.average`."
      ]
    },
    {
      "cell_type": "code",
      "metadata": {
        "colab": {
          "base_uri": "https://localhost:8080/"
        },
        "id": "n0ljVxOFZAz4",
        "outputId": "0e6a2269-61d6-4c73-a25a-bb08c7e67fdb"
      },
      "source": [
        "# Your code here:\n",
        "#np.split(wine[:,3], np.unique(wine[:, 5], return_index=True)[1][1:])\n",
        "np.average(wine['data'][:,2])"
      ],
      "execution_count": 115,
      "outputs": [
        {
          "output_type": "execute_result",
          "data": {
            "text/plain": [
              "2.3665168539325845"
            ]
          },
          "metadata": {},
          "execution_count": 115
        }
      ]
    },
    {
      "cell_type": "markdown",
      "metadata": {
        "id": "mgJuGvFTZAz4"
      },
      "source": [
        "# Challenge 3 - Load and Explore an External Dataset\n",
        "\n",
        "We will now load an external dataset using Pandas and use scikit learn to explore the data. In this portion of the lab, we will use a [patient dataset from Kaggle](https://www.kaggle.com/miles99/patient-admission-dataset-for-learning-data-mining). "
      ]
    },
    {
      "cell_type": "code",
      "metadata": {
        "id": "SbreOesmZAz4"
      },
      "source": [
        "patients = pd.read_csv('/content/drive/MyDrive/Iron Hack/LABs/csv_docs/patient-admission-dataset-for-learning-data-mining.csv')"
      ],
      "execution_count": 116,
      "outputs": []
    },
    {
      "cell_type": "markdown",
      "metadata": {
        "id": "UeFHBjq2ZAz4"
      },
      "source": [
        "In the next cell, print the first five rows of the data using the `head()` function."
      ]
    },
    {
      "cell_type": "code",
      "metadata": {
        "colab": {
          "base_uri": "https://localhost:8080/",
          "height": 292
        },
        "id": "0Ib69dW6ZAz4",
        "outputId": "c11364c8-8dad-4157-e6fe-2c83de3dbcee"
      },
      "source": [
        "# Your code here:\n",
        "patients.head()"
      ],
      "execution_count": 117,
      "outputs": [
        {
          "output_type": "execute_result",
          "data": {
            "text/html": [
              "<div>\n",
              "<style scoped>\n",
              "    .dataframe tbody tr th:only-of-type {\n",
              "        vertical-align: middle;\n",
              "    }\n",
              "\n",
              "    .dataframe tbody tr th {\n",
              "        vertical-align: top;\n",
              "    }\n",
              "\n",
              "    .dataframe thead th {\n",
              "        text-align: right;\n",
              "    }\n",
              "</style>\n",
              "<table border=\"1\" class=\"dataframe\">\n",
              "  <thead>\n",
              "    <tr style=\"text-align: right;\">\n",
              "      <th></th>\n",
              "      <th>id</th>\n",
              "      <th>patient_name</th>\n",
              "      <th>patient_email</th>\n",
              "      <th>doctor_phone</th>\n",
              "      <th>patient_gender</th>\n",
              "      <th>patient_dob</th>\n",
              "      <th>patient_diabetic</th>\n",
              "      <th>patient_allergic</th>\n",
              "      <th>patient_weight_kg</th>\n",
              "      <th>patient_height_sm</th>\n",
              "      <th>patient_nhs_number</th>\n",
              "      <th>doctor_name</th>\n",
              "      <th>appointment_date</th>\n",
              "      <th>patient_show</th>\n",
              "      <th>is_regular_visit</th>\n",
              "      <th>prescribed_medicines</th>\n",
              "      <th>diagnosis</th>\n",
              "    </tr>\n",
              "  </thead>\n",
              "  <tbody>\n",
              "    <tr>\n",
              "      <th>0</th>\n",
              "      <td>1</td>\n",
              "      <td>Celestyna Dillimore</td>\n",
              "      <td>cdillimore0@dion.ne.jp</td>\n",
              "      <td>674-914-1212</td>\n",
              "      <td>Female</td>\n",
              "      <td>10/18/2018</td>\n",
              "      <td>False</td>\n",
              "      <td>True</td>\n",
              "      <td>59</td>\n",
              "      <td>176</td>\n",
              "      <td>8.200152e+09</td>\n",
              "      <td>Sarena Waliszek</td>\n",
              "      <td>5/1/2018</td>\n",
              "      <td>True</td>\n",
              "      <td>True</td>\n",
              "      <td>triamcinolone acetonide</td>\n",
              "      <td>I669</td>\n",
              "    </tr>\n",
              "    <tr>\n",
              "      <th>1</th>\n",
              "      <td>2</td>\n",
              "      <td>Meta Michieli</td>\n",
              "      <td>mmichieli1@loc.gov</td>\n",
              "      <td>172-580-3586</td>\n",
              "      <td>Female</td>\n",
              "      <td>2/8/2018</td>\n",
              "      <td>False</td>\n",
              "      <td>True</td>\n",
              "      <td>77</td>\n",
              "      <td>186</td>\n",
              "      <td>NaN</td>\n",
              "      <td>Farris Robinet</td>\n",
              "      <td>12/7/2017</td>\n",
              "      <td>True</td>\n",
              "      <td>True</td>\n",
              "      <td>NaN</td>\n",
              "      <td>NaN</td>\n",
              "    </tr>\n",
              "    <tr>\n",
              "      <th>2</th>\n",
              "      <td>3</td>\n",
              "      <td>Cordie Sancto</td>\n",
              "      <td>csancto2@cafepress.com</td>\n",
              "      <td>794-222-5085</td>\n",
              "      <td>Female</td>\n",
              "      <td>10/9/2018</td>\n",
              "      <td>True</td>\n",
              "      <td>True</td>\n",
              "      <td>90</td>\n",
              "      <td>177</td>\n",
              "      <td>6.145594e+09</td>\n",
              "      <td>Kaspar Spitaro</td>\n",
              "      <td>10/5/2018</td>\n",
              "      <td>False</td>\n",
              "      <td>False</td>\n",
              "      <td>NaN</td>\n",
              "      <td>NaN</td>\n",
              "    </tr>\n",
              "    <tr>\n",
              "      <th>3</th>\n",
              "      <td>4</td>\n",
              "      <td>Josh De Ambrosis</td>\n",
              "      <td>jde3@amazon.co.jp</td>\n",
              "      <td>856-540-5195</td>\n",
              "      <td>Male</td>\n",
              "      <td>9/10/2018</td>\n",
              "      <td>True</td>\n",
              "      <td>True</td>\n",
              "      <td>70</td>\n",
              "      <td>150</td>\n",
              "      <td>NaN</td>\n",
              "      <td>Rafferty Fowls</td>\n",
              "      <td>10/21/2018</td>\n",
              "      <td>False</td>\n",
              "      <td>True</td>\n",
              "      <td>NaN</td>\n",
              "      <td>NaN</td>\n",
              "    </tr>\n",
              "    <tr>\n",
              "      <th>4</th>\n",
              "      <td>5</td>\n",
              "      <td>Delinda Alfonsini</td>\n",
              "      <td>dalfonsini4@opensource.org</td>\n",
              "      <td>938-978-1131</td>\n",
              "      <td>Female</td>\n",
              "      <td>2/26/2018</td>\n",
              "      <td>False</td>\n",
              "      <td>True</td>\n",
              "      <td>82</td>\n",
              "      <td>140</td>\n",
              "      <td>4.804758e+08</td>\n",
              "      <td>Glenna MacNeachtain</td>\n",
              "      <td>11/15/2018</td>\n",
              "      <td>False</td>\n",
              "      <td>False</td>\n",
              "      <td>NaN</td>\n",
              "      <td>NaN</td>\n",
              "    </tr>\n",
              "  </tbody>\n",
              "</table>\n",
              "</div>"
            ],
            "text/plain": [
              "   id         patient_name  ...     prescribed_medicines diagnosis\n",
              "0   1  Celestyna Dillimore  ...  triamcinolone acetonide      I669\n",
              "1   2        Meta Michieli  ...                      NaN       NaN\n",
              "2   3        Cordie Sancto  ...                      NaN       NaN\n",
              "3   4     Josh De Ambrosis  ...                      NaN       NaN\n",
              "4   5    Delinda Alfonsini  ...                      NaN       NaN\n",
              "\n",
              "[5 rows x 17 columns]"
            ]
          },
          "metadata": {},
          "execution_count": 117
        }
      ]
    },
    {
      "cell_type": "markdown",
      "metadata": {
        "id": "rqtY5VkrZAz5"
      },
      "source": [
        "Next, print the column types and check which columns have been misclassified by pandas."
      ]
    },
    {
      "cell_type": "code",
      "metadata": {
        "colab": {
          "base_uri": "https://localhost:8080/"
        },
        "id": "EH0F4Qi2ZAz7",
        "outputId": "26f0a9f2-561f-47f1-ecc0-0314aef112d8"
      },
      "source": [
        "# Your code here:\n",
        "patients.info()"
      ],
      "execution_count": 118,
      "outputs": [
        {
          "output_type": "stream",
          "name": "stdout",
          "text": [
            "<class 'pandas.core.frame.DataFrame'>\n",
            "RangeIndex: 1000 entries, 0 to 999\n",
            "Data columns (total 17 columns):\n",
            " #   Column                Non-Null Count  Dtype  \n",
            "---  ------                --------------  -----  \n",
            " 0   id                    1000 non-null   int64  \n",
            " 1   patient_name          1000 non-null   object \n",
            " 2   patient_email         1000 non-null   object \n",
            " 3   doctor_phone          1000 non-null   object \n",
            " 4   patient_gender        1000 non-null   object \n",
            " 5   patient_dob           1000 non-null   object \n",
            " 6   patient_diabetic      1000 non-null   bool   \n",
            " 7   patient_allergic      1000 non-null   bool   \n",
            " 8   patient_weight_kg     1000 non-null   int64  \n",
            " 9   patient_height_sm     1000 non-null   int64  \n",
            " 10  patient_nhs_number    796 non-null    float64\n",
            " 11  doctor_name           942 non-null    object \n",
            " 12  appointment_date      1000 non-null   object \n",
            " 13  patient_show          1000 non-null   bool   \n",
            " 14  is_regular_visit      1000 non-null   bool   \n",
            " 15  prescribed_medicines  512 non-null    object \n",
            " 16  diagnosis             512 non-null    object \n",
            "dtypes: bool(4), float64(1), int64(3), object(9)\n",
            "memory usage: 105.6+ KB\n"
          ]
        }
      ]
    },
    {
      "cell_type": "markdown",
      "metadata": {
        "id": "1lvIXwlhZAz8"
      },
      "source": [
        "#### We can see that none of the date columns have been correctly classified. Also, some columns contain qualitative data that can be dropped.\n",
        "\n",
        "First, transform the `patient_dob` and `appointment_date` columns to datetime using the `pd.to_datetime` function."
      ]
    },
    {
      "cell_type": "code",
      "metadata": {
        "id": "htIbX0HcZAz8"
      },
      "source": [
        "# Your code here:\n",
        "patients['appointment_date'] = pd.to_datetime(patients['appointment_date'])\n",
        "patients['patient_dob'] = pd.to_datetime(patients['patient_dob'])"
      ],
      "execution_count": 119,
      "outputs": []
    },
    {
      "cell_type": "code",
      "metadata": {
        "colab": {
          "base_uri": "https://localhost:8080/"
        },
        "id": "6CRIwexAsVr1",
        "outputId": "3339622b-55c0-4d0c-8b2d-59dc110c4ac3"
      },
      "source": [
        "patients.info()"
      ],
      "execution_count": 120,
      "outputs": [
        {
          "output_type": "stream",
          "name": "stdout",
          "text": [
            "<class 'pandas.core.frame.DataFrame'>\n",
            "RangeIndex: 1000 entries, 0 to 999\n",
            "Data columns (total 17 columns):\n",
            " #   Column                Non-Null Count  Dtype         \n",
            "---  ------                --------------  -----         \n",
            " 0   id                    1000 non-null   int64         \n",
            " 1   patient_name          1000 non-null   object        \n",
            " 2   patient_email         1000 non-null   object        \n",
            " 3   doctor_phone          1000 non-null   object        \n",
            " 4   patient_gender        1000 non-null   object        \n",
            " 5   patient_dob           1000 non-null   datetime64[ns]\n",
            " 6   patient_diabetic      1000 non-null   bool          \n",
            " 7   patient_allergic      1000 non-null   bool          \n",
            " 8   patient_weight_kg     1000 non-null   int64         \n",
            " 9   patient_height_sm     1000 non-null   int64         \n",
            " 10  patient_nhs_number    796 non-null    float64       \n",
            " 11  doctor_name           942 non-null    object        \n",
            " 12  appointment_date      1000 non-null   datetime64[ns]\n",
            " 13  patient_show          1000 non-null   bool          \n",
            " 14  is_regular_visit      1000 non-null   bool          \n",
            " 15  prescribed_medicines  512 non-null    object        \n",
            " 16  diagnosis             512 non-null    object        \n",
            "dtypes: bool(4), datetime64[ns](2), float64(1), int64(3), object(7)\n",
            "memory usage: 105.6+ KB\n"
          ]
        }
      ]
    },
    {
      "cell_type": "markdown",
      "metadata": {
        "id": "NlYXmJqoZAz8"
      },
      "source": [
        "Next, drop the `id`, `patient_name`, `patient_email`, `patient_nhs_number`, and `doctor_phone` columns. These are not quantitative columns and will not contribute to our analysis."
      ]
    },
    {
      "cell_type": "code",
      "metadata": {
        "id": "Aq3Mw95UZAz9"
      },
      "source": [
        "# Your code here:\n",
        "patients.drop(columns=['id', 'patient_name', 'patient_email', 'patient_nhs_number','doctor_phone'],inplace=True)"
      ],
      "execution_count": 121,
      "outputs": []
    },
    {
      "cell_type": "markdown",
      "metadata": {
        "id": "wJXqLqsxZAz9"
      },
      "source": [
        "Now we work on the missing data. Most ML algorithms will not perform as intended if there are missing data.\n",
        "\n",
        "In the cell below, count how many rows contain missing data in each column. You should see three columns contain missing data:\n",
        "\n",
        "* `doctor_name`: 58 missing data\n",
        "* `prescribed_medicines`: 488 missing data\n",
        "* `diagnosis`: 488 missing data"
      ]
    },
    {
      "cell_type": "code",
      "metadata": {
        "colab": {
          "base_uri": "https://localhost:8080/"
        },
        "id": "9G6RMNOwZAz9",
        "outputId": "73037cb8-ba88-44a9-896b-74f97c4782db"
      },
      "source": [
        "# Your code here:\n",
        "patients.isna().sum()"
      ],
      "execution_count": 122,
      "outputs": [
        {
          "output_type": "execute_result",
          "data": {
            "text/plain": [
              "patient_gender            0\n",
              "patient_dob               0\n",
              "patient_diabetic          0\n",
              "patient_allergic          0\n",
              "patient_weight_kg         0\n",
              "patient_height_sm         0\n",
              "doctor_name              58\n",
              "appointment_date          0\n",
              "patient_show              0\n",
              "is_regular_visit          0\n",
              "prescribed_medicines    488\n",
              "diagnosis               488\n",
              "dtype: int64"
            ]
          },
          "metadata": {},
          "execution_count": 122
        }
      ]
    },
    {
      "cell_type": "markdown",
      "metadata": {
        "id": "s9hfg-T5ZAz9"
      },
      "source": [
        "The main issues are found in the `prescribed_medicines` and `diagnosis` columns. Can we simply drop these rows?\n",
        "\n",
        "The answer is not yet. Because when there are missing data in these columns, it doesn't mean the data records are broken. Instead, it means no medication was prescribed and no diagnosis was recorded. Therefore, once we fill in the missing data these columns will be fine. But we'll revisit these columns and decide whether we will eventually drop them when we look at how many unique values are there in these categorical columns.  \n",
        "\n",
        "For the `prescribed_medicines` column, fill the missing values with the value `no prescription`. For the `diagnosis` column, fill the missing values with `no diagnosis`.\n",
        "\n",
        "*Hint: Use [`pandas.DataFrame.fillna`](https://pandas.pydata.org/pandas-docs/stable/generated/pandas.DataFrame.fillna.html).*"
      ]
    },
    {
      "cell_type": "code",
      "metadata": {
        "id": "pNlykZu3ZAz9"
      },
      "source": [
        "# Your code here:\n",
        "patients['prescribed_medicines'].fillna(value='no diagnosis',inplace=True)\n",
        "patients['diagnosis'].fillna(value='no diagnosis',inplace=True)"
      ],
      "execution_count": 132,
      "outputs": []
    },
    {
      "cell_type": "markdown",
      "metadata": {
        "id": "xSwg6XT1ZAz-"
      },
      "source": [
        "How about `doctor_name`? Since a doctor visit without a doctor name might not be meaningful, we will drop these rows."
      ]
    },
    {
      "cell_type": "code",
      "metadata": {
        "id": "awVs4Kn6ZAz-"
      },
      "source": [
        "# Your code here:\n",
        "patients.dropna(axis=0,inplace=True)"
      ],
      "execution_count": 134,
      "outputs": []
    },
    {
      "cell_type": "code",
      "metadata": {
        "colab": {
          "base_uri": "https://localhost:8080/"
        },
        "id": "xKx2y84xwf7J",
        "outputId": "b6c09a77-1e43-4343-88f0-3e0c12b32e46"
      },
      "source": [
        "patients.isna().sum()"
      ],
      "execution_count": 135,
      "outputs": [
        {
          "output_type": "execute_result",
          "data": {
            "text/plain": [
              "patient_gender          0\n",
              "patient_dob             0\n",
              "patient_diabetic        0\n",
              "patient_allergic        0\n",
              "patient_weight_kg       0\n",
              "patient_height_sm       0\n",
              "doctor_name             0\n",
              "appointment_date        0\n",
              "patient_show            0\n",
              "is_regular_visit        0\n",
              "prescribed_medicines    0\n",
              "diagnosis               0\n",
              "dtype: int64"
            ]
          },
          "metadata": {},
          "execution_count": 135
        }
      ]
    },
    {
      "cell_type": "markdown",
      "metadata": {
        "id": "4vITTL8BZAz-"
      },
      "source": [
        "#### Another step in preprocessing that can be performed by scikit-learn is label encoding. \n",
        "\n",
        "We have 4 columns that are of `bool` type. We would like to convert them to an integer column containing either zero or one. We can do this using [scikit-learn's label encoder](https://scikit-learn.org/stable/modules/generated/sklearn.preprocessing.LabelEncoder.html).\n",
        "\n",
        "In the cell below, import the label encoder and encode the 4 boolean columns (*patient_diabetic*, *patient_allergic*, *patient_show*, *is_regular_visit*) with `0` and `1`. "
      ]
    },
    {
      "cell_type": "code",
      "metadata": {
        "id": "iHHKwP1tZAz-"
      },
      "source": [
        "# Your code here:\n",
        "from sklearn import preprocessing"
      ],
      "execution_count": 65,
      "outputs": []
    },
    {
      "cell_type": "code",
      "metadata": {
        "colab": {
          "base_uri": "https://localhost:8080/"
        },
        "id": "mbs1ebuHuzwf",
        "outputId": "b7deb2f7-4f48-406f-8f54-96db0c6e28dd"
      },
      "source": [
        "le = preprocessing.LabelEncoder()\n",
        "le.fit(patients['patient_diabetic'])"
      ],
      "execution_count": 136,
      "outputs": [
        {
          "output_type": "execute_result",
          "data": {
            "text/plain": [
              "LabelEncoder()"
            ]
          },
          "metadata": {},
          "execution_count": 136
        }
      ]
    },
    {
      "cell_type": "code",
      "metadata": {
        "id": "yIyg8A3cvQjW"
      },
      "source": [
        "patients['diabetic_trans']=le.transform(patients['patient_diabetic'])"
      ],
      "execution_count": 143,
      "outputs": []
    },
    {
      "cell_type": "code",
      "metadata": {
        "id": "dXJb3F33xr7H"
      },
      "source": [
        "le = preprocessing.LabelEncoder()\n",
        "le.fit(patients['patient_allergic'])\n",
        "patients['allergic_trans']=le.transform(patients['patient_allergic'])"
      ],
      "execution_count": 144,
      "outputs": []
    },
    {
      "cell_type": "code",
      "metadata": {
        "id": "vrEG1zk7x6vX"
      },
      "source": [
        "le = preprocessing.LabelEncoder()\n",
        "le.fit(patients['patient_show'])\n",
        "patients['show_trans']=le.transform(patients['patient_show'])"
      ],
      "execution_count": 145,
      "outputs": []
    },
    {
      "cell_type": "code",
      "metadata": {
        "id": "LsQRlwQQyCWN"
      },
      "source": [
        "le = preprocessing.LabelEncoder()\n",
        "le.fit(patients['is_regular_visit'])\n",
        "patients['regular_visit_trans']=le.transform(patients['is_regular_visit'])"
      ],
      "execution_count": 146,
      "outputs": []
    },
    {
      "cell_type": "markdown",
      "metadata": {
        "id": "Td2aQDKqZAz-"
      },
      "source": [
        "Print the data dtypes to confirm those four `bool` columns are converted to `int64`."
      ]
    },
    {
      "cell_type": "code",
      "metadata": {
        "colab": {
          "base_uri": "https://localhost:8080/"
        },
        "id": "jJc6Y9WNZAz-",
        "outputId": "75df93cd-0ff6-4bea-f7b4-9b97274e092c"
      },
      "source": [
        "# Your code here:\n",
        "patients.info()"
      ],
      "execution_count": 148,
      "outputs": [
        {
          "output_type": "stream",
          "name": "stdout",
          "text": [
            "<class 'pandas.core.frame.DataFrame'>\n",
            "Int64Index: 942 entries, 0 to 999\n",
            "Data columns (total 16 columns):\n",
            " #   Column                Non-Null Count  Dtype         \n",
            "---  ------                --------------  -----         \n",
            " 0   patient_gender        942 non-null    object        \n",
            " 1   patient_dob           942 non-null    datetime64[ns]\n",
            " 2   patient_diabetic      942 non-null    bool          \n",
            " 3   patient_allergic      942 non-null    bool          \n",
            " 4   patient_weight_kg     942 non-null    int64         \n",
            " 5   patient_height_sm     942 non-null    int64         \n",
            " 6   doctor_name           942 non-null    object        \n",
            " 7   appointment_date      942 non-null    datetime64[ns]\n",
            " 8   patient_show          942 non-null    bool          \n",
            " 9   is_regular_visit      942 non-null    bool          \n",
            " 10  prescribed_medicines  942 non-null    object        \n",
            " 11  diagnosis             942 non-null    object        \n",
            " 12  diabetic_trans        942 non-null    int64         \n",
            " 13  allergic_trans        942 non-null    int64         \n",
            " 14  show_trans            942 non-null    int64         \n",
            " 15  regular_visit_trans   942 non-null    int64         \n",
            "dtypes: bool(4), datetime64[ns](2), int64(6), object(4)\n",
            "memory usage: 99.4+ KB\n"
          ]
        }
      ]
    },
    {
      "cell_type": "markdown",
      "metadata": {
        "id": "LxQP7Wt_ZAz_"
      },
      "source": [
        "#### The last step is to handle the `object` data.\n",
        "\n",
        "There are 4 `object` columns now: `patient_gender`, `doctor_name`, `prescribed_medicines`, and `diagnosis`. The gender columns\n",
        "\n",
        "In the next cell, check the unique values of each of the `object` columns using `value_counts()`."
      ]
    },
    {
      "cell_type": "code",
      "metadata": {
        "scrolled": false,
        "colab": {
          "base_uri": "https://localhost:8080/"
        },
        "id": "YBGpTKuMZAz_",
        "outputId": "eaf1e3d0-5b03-4f42-c8b5-ae75f747ae11"
      },
      "source": [
        "# Your code here:\n",
        "patients['patient_gender'].value_counts()"
      ],
      "execution_count": 149,
      "outputs": [
        {
          "output_type": "execute_result",
          "data": {
            "text/plain": [
              "Female    476\n",
              "Male      466\n",
              "Name: patient_gender, dtype: int64"
            ]
          },
          "metadata": {},
          "execution_count": 149
        }
      ]
    },
    {
      "cell_type": "code",
      "metadata": {
        "colab": {
          "base_uri": "https://localhost:8080/"
        },
        "id": "DnS1kBn-y3IE",
        "outputId": "79e42d86-0565-4647-f752-fbb8ea6cbca8"
      },
      "source": [
        "patients['prescribed_medicines'].value_counts()"
      ],
      "execution_count": 151,
      "outputs": [
        {
          "output_type": "execute_result",
          "data": {
            "text/plain": [
              "no diagnosis                                      457\n",
              "ALCOHOL                                             8\n",
              "Ibuprofen                                           6\n",
              "Triclosan                                           5\n",
              "Acetaminophen                                       5\n",
              "                                                 ... \n",
              "Pantoprazole Sodium                                 1\n",
              "FENTANYL                                            1\n",
              "Eucalyptol                                          1\n",
              "Avobenzone, Octinoxate, Octisalate, Oxybenzone      1\n",
              "Spasms Weakness                                     1\n",
              "Name: prescribed_medicines, Length: 395, dtype: int64"
            ]
          },
          "metadata": {},
          "execution_count": 151
        }
      ]
    },
    {
      "cell_type": "code",
      "metadata": {
        "colab": {
          "base_uri": "https://localhost:8080/"
        },
        "id": "3CAl67ayy2-l",
        "outputId": "8f773610-29f6-47f6-f900-9acb4c69a375"
      },
      "source": [
        "patients['doctor_name'].value_counts()"
      ],
      "execution_count": 152,
      "outputs": [
        {
          "output_type": "execute_result",
          "data": {
            "text/plain": [
              "Sarena Waliszek           74\n",
              "Cissy Markey              57\n",
              "Flossy Canlin             55\n",
              "Farris Robinet            55\n",
              "Jilly McGrill             53\n",
              "Gabie Brafield            53\n",
              "Glenna MacNeachtain       53\n",
              "Nerte Elmer               51\n",
              "Oralie Swaffer            49\n",
              "Kaspar Spitaro            48\n",
              "Wyn Grassett              47\n",
              "Humfried Cartmel          47\n",
              "Carly SperaJillie Katt    47\n",
              "Madelina Scurrell         46\n",
              "Rafferty Fowls            45\n",
              "Dulce McKerley            42\n",
              "Rouvin McKinstry          42\n",
              "Ryley Swallow             40\n",
              "Hermina Domeny            38\n",
              "Name: doctor_name, dtype: int64"
            ]
          },
          "metadata": {},
          "execution_count": 152
        }
      ]
    },
    {
      "cell_type": "code",
      "metadata": {
        "colab": {
          "base_uri": "https://localhost:8080/"
        },
        "id": "L-t77Z8ny27Y",
        "outputId": "5c9b6c65-ee6d-4af3-c644-6fc1d3bc7968"
      },
      "source": [
        "patients['diagnosis'].value_counts()"
      ],
      "execution_count": 153,
      "outputs": [
        {
          "output_type": "execute_result",
          "data": {
            "text/plain": [
              "no diagnosis    457\n",
              "T2169             2\n",
              "A241              1\n",
              "T7114             1\n",
              "S31101D           1\n",
              "               ... \n",
              "G318              1\n",
              "N7681             1\n",
              "T24701S           1\n",
              "T8386XS           1\n",
              "T466X5A           1\n",
              "Name: diagnosis, Length: 485, dtype: int64"
            ]
          },
          "metadata": {},
          "execution_count": 153
        }
      ]
    },
    {
      "cell_type": "markdown",
      "metadata": {
        "id": "Nu4bsG0nZAz_"
      },
      "source": [
        "#### The number of unique values is large for all three columns except `patient_gender`. We will handle these columns differently.\n",
        "\n",
        "For `diagnosis`, there are too many unique values which will make ML difficult. However, we can re-encode the values to either with or without diagnosis. Remember at an earlier step we filled in the missing values of this column with *no diagnosis*? We can re-encode *no diagnosis* to `0` and all other values to `1`. In this way we can tremendously simply this column.\n",
        "\n",
        "For `prescribed_medicines`, we can drop this column because it is perfectly correlated with `diagnosis`. Whenever there is no diagnosis, there is no prescribed medicine. So we don't need to keep this duplicated data.\n",
        "\n",
        "How about `doctor_name`? There are not excessive unique values but still quite many (19). We may either drop or keep it but keeping it will make the analysis more complicated. So due to the length of this lab let's drop it.\n",
        "\n",
        "How about `gender`? This one is easy. Just like re-encoding the boolean values, we can re-encode gender to `0` and `1` because there are only 2 unique values.\n",
        "\n",
        "In the next cells, do the following:\n",
        "\n",
        "1. Create a new column called `diagnosis_int` that has `0` and `1` based on the values in `diagnosis`.\n",
        "\n",
        "1. Create a new column called `patient_gender_int` that has `0` and `1` based on the values in `patient_gender`.\n",
        "\n",
        "1. Drop the following columns: `doctor_name`, `diagnosis`, `prescribed_medicines`, and `patient_gender`."
      ]
    },
    {
      "cell_type": "code",
      "metadata": {
        "id": "TVirZ7WZZAz_"
      },
      "source": [
        "# Your code here:\n",
        "patients['diagnosis_int']= [0 if a=='no diagnosis' else 1 for a in patients['diagnosis']]"
      ],
      "execution_count": 163,
      "outputs": []
    },
    {
      "cell_type": "code",
      "metadata": {
        "id": "w-MQihHbz6uu"
      },
      "source": [
        "patients['patient_gender_int'] = [0 if a=='Male' else 1 for a in patients['patient_gender']]"
      ],
      "execution_count": 167,
      "outputs": []
    },
    {
      "cell_type": "code",
      "metadata": {
        "id": "um4c2gg-5me5"
      },
      "source": [
        "patients.drop(columns=['doctor_name','diagnosis','prescribed_medicines','patient_gender','patient_diabetic','patient_allergic','patient_show','is_regular_visit'],inplace=True)"
      ],
      "execution_count": 172,
      "outputs": []
    },
    {
      "cell_type": "code",
      "metadata": {
        "id": "j8ha3Rro6AK6"
      },
      "source": [
        "patients"
      ],
      "execution_count": null,
      "outputs": []
    },
    {
      "cell_type": "markdown",
      "metadata": {
        "id": "oabAAuOQZAz_"
      },
      "source": [
        "Let's look at the head again to ensure the re-encoding and dropping are successful:"
      ]
    },
    {
      "cell_type": "code",
      "metadata": {
        "id": "6K3j_tosZA0A"
      },
      "source": [
        "# Your code here:\n"
      ],
      "execution_count": null,
      "outputs": []
    },
    {
      "cell_type": "markdown",
      "metadata": {
        "id": "yESoLYH5ZA0A"
      },
      "source": [
        "An interesting observation is that all patients are no older than 2 years. However, their weights and heights indicate that they are adults. This cannot be true. Therefore, we can either trust the weight and height columns or the DOB column. Since there are other columns that indicate that these are adults (they have emails, some have diabetes) we will drop the `patient_dob` column. We will also drop the `appointment_date` column since it has too many unique values to transform to a dummy variable. Drop the two columns in the cell below."
      ]
    },
    {
      "cell_type": "code",
      "metadata": {
        "id": "bfKI5iaRZA0A"
      },
      "source": [
        "# Your code here:\n",
        "patients.drop(columns=['patient_dob','appointment_date'],inplace=True)"
      ],
      "execution_count": 175,
      "outputs": []
    },
    {
      "cell_type": "markdown",
      "metadata": {
        "id": "pnqZgwYZZA0B"
      },
      "source": [
        "#### Our data is now ready for clustering. Let's use k-means again.\n",
        "\n",
        "We start by initializing and fitting a model in the cell below. Call this model patients_cluster."
      ]
    },
    {
      "cell_type": "code",
      "metadata": {
        "colab": {
          "base_uri": "https://localhost:8080/",
          "height": 295
        },
        "id": "vdHMyu0T7I6H",
        "outputId": "2dbb3018-0784-4952-c5af-095ff3fe8f62"
      },
      "source": [
        "K = range(1, 15)\n",
        "sum_squared_distances = []\n",
        "\n",
        "for k in K:\n",
        "  model = KMeans(n_clusters=k).fit(patients)\n",
        "  sum_squared_distances.append(model.inertia_)\n",
        "\n",
        "plt.plot(K, sum_squared_distances)\n",
        "plt.xlabel('K Values')\n",
        "plt.ylabel('Sum of Squared Distances')\n",
        "plt.title('Elbow Method')\n",
        "\n",
        "plt.show()"
      ],
      "execution_count": 177,
      "outputs": [
        {
          "output_type": "display_data",
          "data": {
            "image/png": "[encoded data removed]",
            "text/plain": [
              "<Figure size 432x288 with 1 Axes>"
            ]
          },
          "metadata": {
            "needs_background": "light"
          }
        }
      ]
    },
    {
      "cell_type": "code",
      "metadata": {
        "id": "Rh0m6MEmZA0B"
      },
      "source": [
        "# Your code here:\n",
        "kmeans = KMeans(n_clusters=4)\n",
        "patients_cluster = kmeans.fit(patients)"
      ],
      "execution_count": 178,
      "outputs": []
    },
    {
      "cell_type": "markdown",
      "metadata": {
        "id": "AX_BI4dwZA0B"
      },
      "source": [
        "Attach the labels to the dataframe. Do this by accessing the `labels_` in the `patients_cluster` model and assign them to a new column in `patients` that you will call `labels`."
      ]
    },
    {
      "cell_type": "code",
      "metadata": {
        "id": "luQ2swa3ZA0C"
      },
      "source": [
        "# Your code here:\n",
        "patients['labels'] = patients_cluster.labels_\n",
        "patients"
      ],
      "execution_count": null,
      "outputs": []
    },
    {
      "cell_type": "markdown",
      "metadata": {
        "id": "DW-nJD3QZA0C"
      },
      "source": [
        "Now using a `groupby`, find the mean of every variable in `patients` and group by the `labels` column. This summary will allow us to see how the patients differ between the clusters. Your output should look similar to the image below.\n",
        "\n",
        "![groupby mean](../groupby-mean.png)\n",
        "\n",
        "Additionally, add a comment to describe which columns have the largest difference between clusters."
      ]
    },
    {
      "cell_type": "code",
      "metadata": {
        "colab": {
          "base_uri": "https://localhost:8080/",
          "height": 204
        },
        "id": "JDcei1QbZA0D",
        "outputId": "e837f801-0664-42fe-a2a6-9ef7e5b82442"
      },
      "source": [
        "# Your code here:\n",
        "patients.groupby('labels').agg('mean')"
      ],
      "execution_count": 180,
      "outputs": [
        {
          "output_type": "execute_result",
          "data": {
            "text/html": [
              "<div>\n",
              "<style scoped>\n",
              "    .dataframe tbody tr th:only-of-type {\n",
              "        vertical-align: middle;\n",
              "    }\n",
              "\n",
              "    .dataframe tbody tr th {\n",
              "        vertical-align: top;\n",
              "    }\n",
              "\n",
              "    .dataframe thead th {\n",
              "        text-align: right;\n",
              "    }\n",
              "</style>\n",
              "<table border=\"1\" class=\"dataframe\">\n",
              "  <thead>\n",
              "    <tr style=\"text-align: right;\">\n",
              "      <th></th>\n",
              "      <th>patient_weight_kg</th>\n",
              "      <th>patient_height_sm</th>\n",
              "      <th>diabetic_trans</th>\n",
              "      <th>allergic_trans</th>\n",
              "      <th>show_trans</th>\n",
              "      <th>regular_visit_trans</th>\n",
              "      <th>diagnosis_int</th>\n",
              "      <th>patient_gender_int</th>\n",
              "    </tr>\n",
              "    <tr>\n",
              "      <th>labels</th>\n",
              "      <th></th>\n",
              "      <th></th>\n",
              "      <th></th>\n",
              "      <th></th>\n",
              "      <th></th>\n",
              "      <th></th>\n",
              "      <th></th>\n",
              "      <th></th>\n",
              "    </tr>\n",
              "  </thead>\n",
              "  <tbody>\n",
              "    <tr>\n",
              "      <th>0</th>\n",
              "      <td>97.381166</td>\n",
              "      <td>153.529148</td>\n",
              "      <td>0.560538</td>\n",
              "      <td>0.529148</td>\n",
              "      <td>0.488789</td>\n",
              "      <td>0.506726</td>\n",
              "      <td>0.596413</td>\n",
              "      <td>0.479821</td>\n",
              "    </tr>\n",
              "    <tr>\n",
              "      <th>1</th>\n",
              "      <td>62.900000</td>\n",
              "      <td>176.954167</td>\n",
              "      <td>0.508333</td>\n",
              "      <td>0.533333</td>\n",
              "      <td>0.475000</td>\n",
              "      <td>0.495833</td>\n",
              "      <td>0.454167</td>\n",
              "      <td>0.545833</td>\n",
              "    </tr>\n",
              "    <tr>\n",
              "      <th>2</th>\n",
              "      <td>94.112450</td>\n",
              "      <td>178.847390</td>\n",
              "      <td>0.485944</td>\n",
              "      <td>0.485944</td>\n",
              "      <td>0.506024</td>\n",
              "      <td>0.530120</td>\n",
              "      <td>0.510040</td>\n",
              "      <td>0.542169</td>\n",
              "    </tr>\n",
              "    <tr>\n",
              "      <th>3</th>\n",
              "      <td>65.365217</td>\n",
              "      <td>152.304348</td>\n",
              "      <td>0.504348</td>\n",
              "      <td>0.491304</td>\n",
              "      <td>0.508696</td>\n",
              "      <td>0.556522</td>\n",
              "      <td>0.504348</td>\n",
              "      <td>0.447826</td>\n",
              "    </tr>\n",
              "  </tbody>\n",
              "</table>\n",
              "</div>"
            ],
            "text/plain": [
              "        patient_weight_kg  patient_height_sm  ...  diagnosis_int  patient_gender_int\n",
              "labels                                        ...                                   \n",
              "0               97.381166         153.529148  ...       0.596413            0.479821\n",
              "1               62.900000         176.954167  ...       0.454167            0.545833\n",
              "2               94.112450         178.847390  ...       0.510040            0.542169\n",
              "3               65.365217         152.304348  ...       0.504348            0.447826\n",
              "\n",
              "[4 rows x 8 columns]"
            ]
          },
          "metadata": {},
          "execution_count": 180
        }
      ]
    },
    {
      "cell_type": "code",
      "metadata": {
        "id": "OwmuFdwrZA0E"
      },
      "source": [
        "# Your comment here:\n",
        "'''\n",
        "because of having continuous numbers, the height and weight have significant differences between the clusters\n",
        "'''"
      ],
      "execution_count": null,
      "outputs": []
    },
    {
      "cell_type": "markdown",
      "metadata": {
        "id": "4U4v3vUyZA0E"
      },
      "source": [
        "# Bonus Challenge: Visualize K-Means Clusters\n",
        "\n",
        "How did k-means cluster the data? You can obtain an intuitive view with a scatter plot. Generate a 2-d cluster plot below using `matplotlib`. You need to choose 2 of the features from your cleaned and transformed dataset, and use color to represent the cluster label generated from k-means.\n",
        "\n",
        "If the scatter plot does not make any sense to you, it means the features you chose to visualize are not the right ones. You should be able to see 4 clear clusters with different colors in your visualization that suggests how k-means had clustered your data.\n",
        "\n",
        "![Cluster Visualization](../clusters.png)"
      ]
    },
    {
      "cell_type": "code",
      "metadata": {
        "id": "gCamVrjT9YHL"
      },
      "source": [
        "patients_cluster.predict()"
      ],
      "execution_count": null,
      "outputs": []
    },
    {
      "cell_type": "code",
      "metadata": {
        "colab": {
          "base_uri": "https://localhost:8080/",
          "height": 500
        },
        "id": "-oh0BzPRZA0F",
        "outputId": "21054074-d8c1-48ff-fa71-1cdb86fd11ac"
      },
      "source": [
        "# Your code here:\n",
        "X = patients.iloc[:,0:-1].to_numpy()\n",
        "labels = patients_cluster.predict(X)\n",
        "center = patients_cluster.cluster_centers_\n",
        "colors = [\"yellow\",\"red\",\"blue\",\"green\"]\n",
        "asignar=[]\n",
        "for row in labels:\n",
        "  asignar.append(colors[row])\n",
        "\n",
        "plt.figure(figsize=(12,8))\n",
        "feature_1 = X[:,0]\n",
        "feature_2 = X[:,1]\n",
        "plt.scatter(feature_1, feature_2, c=asignar, alpha=.7)\n",
        "plt.scatter(center[:,0], center[:,1],marker = \"*\",c='black',s=240)\n",
        "plt.show"
      ],
      "execution_count": 186,
      "outputs": [
        {
          "output_type": "execute_result",
          "data": {
            "text/plain": [
              "<function matplotlib.pyplot.show>"
            ]
          },
          "metadata": {},
          "execution_count": 186
        },
        {
          "output_type": "display_data",
          "data": {
            "image/png": "[encoded data removed]",
            "text/plain": [
              "<Figure size 864x576 with 1 Axes>"
            ]
          },
          "metadata": {
            "needs_background": "light"
          }
        }
      ]
    },
    {
      "cell_type": "markdown",
      "metadata": {
        "id": "WUXKqQ7BZA0F"
      },
      "source": [
        "Additionally, you can visualize the clusters in 3-D scatter plot. Give it a try below."
      ]
    },
    {
      "cell_type": "code",
      "metadata": {
        "id": "gZPfaQyuZA0G"
      },
      "source": [
        "# Your code here:\n"
      ],
      "execution_count": null,
      "outputs": []
    }
  ]
}